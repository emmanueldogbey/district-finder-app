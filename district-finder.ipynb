{
 "cells": [
  {
   "cell_type": "code",
   "execution_count": null,
   "metadata": {},
   "outputs": [],
   "source": [
    "import folium\n",
    "import geopandas as gpd\n",
    "from geopy.geocoders import Nominatim\n",
    "from shapely.geometry import Point"
   ]
  },
  {
   "cell_type": "code",
   "execution_count": null,
   "metadata": {},
   "outputs": [],
   "source": [
    "import geopandas as gpd\n",
    "\n",
    "gdf = gpd.read_file(\"https://github.com/emmanueldogbey/district-finder-app/blob/62bdd3436bd94939cc794f6de949aafa133bfa6c/gh_admin_boundaries.geojson?raw=true\")\n",
    "gdf = gdf[gdf[\"admin_level\"] == 6]\n",
    "gdf.head()\n"
   ]
  },
  {
   "cell_type": "code",
   "execution_count": null,
   "metadata": {},
   "outputs": [],
   "source": [
    "style_function = lambda x: {\"color\":\"#000\", \"weight\": 1, \"fillOpacity\": 0}\n",
    "m = folium.Map(location=[5.602408, -0.186069], zoom_start=7)\n",
    "gson = folium.GeoJson(gdf, name=\"District Boundaries\", style_function=style_function).add_to(m)\n",
    "folium.features.GeoJsonPopup(fields=[\"name\"], aliases=[\"\"]).add_to(gson)\n",
    "folium.LayerControl().add_to(m)\n",
    "m"
   ]
  },
  {
   "cell_type": "code",
   "execution_count": null,
   "metadata": {},
   "outputs": [],
   "source": [
    "def get_coordinates(location):\n",
    "    geolocator = Nominatim(user_agent=\"map_app\")\n",
    "    location_data = geolocator.geocode(location)\n",
    "    if location_data:\n",
    "        latitude = location_data.latitude\n",
    "        longitude = location_data.longitude\n",
    "        return latitude, longitude\n",
    "    else:\n",
    "        return None, None\n",
    "    \n",
    "latitude, longitude = get_coordinates(\"Sakumono\")\n",
    "\n",
    "user_point = Point(longitude, latitude)\n",
    "\n",
    "intersecting_polygon = None\n",
    "for index, row in gdf.iterrows():\n",
    "    if row['geometry'].intersects(user_point):\n",
    "        intersecting_polygon = row\n",
    "        break\n",
    "\n",
    "print(intersecting_polygon['name'])"
   ]
  }
 ],
 "metadata": {
  "kernelspec": {
   "display_name": "geospatial",
   "language": "python",
   "name": "python3"
  },
  "language_info": {
   "codemirror_mode": {
    "name": "ipython",
    "version": 3
   },
   "file_extension": ".py",
   "mimetype": "text/x-python",
   "name": "python",
   "nbconvert_exporter": "python",
   "pygments_lexer": "ipython3",
   "version": "3.10.11"
  },
  "orig_nbformat": 4
 },
 "nbformat": 4,
 "nbformat_minor": 2
}
